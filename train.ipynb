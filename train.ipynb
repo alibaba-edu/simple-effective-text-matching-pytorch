{
 "cells": [
  {
   "cell_type": "code",
   "execution_count": 1,
   "metadata": {},
   "outputs": [
    {
     "name": "stdout",
     "output_type": "stream",
     "text": [
      "/home/thinh_do/Study/simple-effective-text-matching-pytorch\n"
     ]
    }
   ],
   "source": [
    "%cd /home/thinh_do/Study/simple-effective-text-matching-pytorch/"
   ]
  },
  {
   "cell_type": "code",
   "execution_count": null,
   "metadata": {},
   "outputs": [],
   "source": [
    "!python3 evaluate.py models/snli/benchmark-0/best.pt data/snli/train.txt \n"
   ]
  },
  {
   "cell_type": "code",
   "execution_count": 31,
   "metadata": {},
   "outputs": [
    {
     "name": "stdout",
     "output_type": "stream",
     "text": [
      "{'acc': 0.8889454397394136,                                                     \n",
      " 'loss': 0.35191512578412104,\n",
      " 'score': 0.8889454397394136,\n",
      " 'updates': 20500}\n"
     ]
    }
   ],
   "source": [
    "!python3 evaluate.py models/snli/benchmark-0/best.pt data/snli/test.txt"
   ]
  },
  {
   "cell_type": "code",
   "execution_count": 19,
   "metadata": {},
   "outputs": [],
   "source": [
    "# Test model\n",
    "from pprint import pprint\n",
    "from src.model import Model\n",
    "from src.interface import Interface\n",
    "from src.utils.loader import load_data\n",
    "from src.utils.vocab import Vocab, Indexer\n",
    "import os\n",
    "import math\n",
    "import random\n",
    "import torch\n",
    "from tqdm import tqdm\n",
    "\n",
    "\n",
    "class Testor:\n",
    "    def __init__(self, model_path, data):\n",
    "        '''\n",
    "            example:\n",
    "            model_path='./models/snli/benchmark-0/best.pt'\n",
    "            data=['i am tom', 'my name is tom']\n",
    "        '''\n",
    "        self.model, self.checkpoint= Model.load(model_path)\n",
    "        self.args = self.checkpoint['args']\n",
    "        self.data_file='./data/snli/pri.txt'\n",
    "        with open(self.data_file, 'w+') as f:\n",
    "            f.write(data[0]+\"\\t\"+data[1]+\"\\t\"+'0')\n",
    "        self.data=load_data(*os.path.split(self.data_file))\n",
    "        \n",
    "        self.inputs=self.process_data()\n",
    "\n",
    "\n",
    "    def process_data(self):\n",
    "        \n",
    "        interface = Interface(self.args)\n",
    "        inputs = interface.pre_process(self.data, training=False)\n",
    "        return inputs  \n",
    "\n",
    "    def Run(self):\n",
    "        \n",
    "        pred, prob = self.model.test(self.inputs)\n",
    "        print(\"{}---{:.4}%\".format(pred[0], torch.max(prob)*100))\n",
    "        \n",
    "        \n",
    "\n",
    "    \n"
   ]
  },
  {
   "cell_type": "code",
   "execution_count": 20,
   "metadata": {},
   "outputs": [
    {
     "name": "stderr",
     "output_type": "stream",
     "text": [
      "                                              "
     ]
    },
    {
     "name": "stdout",
     "output_type": "stream",
     "text": [
      "0---67.95%\n"
     ]
    },
    {
     "name": "stderr",
     "output_type": "stream",
     "text": [
      "\r"
     ]
    }
   ],
   "source": [
    "model_path='./models/snli/benchmark-0/best.pt'\n",
    "data=['i love dog', 'i love you so much']\n",
    "Test=Testor(model_path,data)\n",
    "Test.Run()\n"
   ]
  }
 ],
 "metadata": {
  "kernelspec": {
   "display_name": "Python 3.10.4 64-bit",
   "language": "python",
   "name": "python3"
  },
  "language_info": {
   "codemirror_mode": {
    "name": "ipython",
    "version": 3
   },
   "file_extension": ".py",
   "mimetype": "text/x-python",
   "name": "python",
   "nbconvert_exporter": "python",
   "pygments_lexer": "ipython3",
   "version": "3.10.4"
  },
  "orig_nbformat": 4,
  "vscode": {
   "interpreter": {
    "hash": "916dbcbb3f70747c44a77c7bcd40155683ae19c65e1c03b4aa3499c5328201f1"
   }
  }
 },
 "nbformat": 4,
 "nbformat_minor": 2
}
